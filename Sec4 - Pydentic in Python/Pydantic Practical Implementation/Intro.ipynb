{
 "cells": [
  {
   "cell_type": "markdown",
   "id": "81417460",
   "metadata": {},
   "source": [
    "### Pydantic Basics:-\n",
    "Pydantic is a Python library that helps you create robust, fast, scalable, and maintainabl\n",
    "Creating and using Models in Pydantic is a fundamental concept. Models in Pydantic are essentially classes that represent data\n",
    "Pydantic models are the fondamental of data validation in Pydantic. They are use python type annotations to define the structure and validation data at rntime. here's a detailed exploration of basic model creation and usage in Pydantic. and several Example:-"
   ]
  },
  {
   "cell_type": "code",
   "execution_count": 1,
   "id": "55daa1ee",
   "metadata": {},
   "outputs": [],
   "source": [
    "from pydantic import BaseModel"
   ]
  },
  {
   "cell_type": "code",
   "execution_count": 2,
   "id": "30a604b2",
   "metadata": {},
   "outputs": [
    {
     "name": "stdout",
     "output_type": "stream",
     "text": [
      "name='Abhii' age=30 city='New York'\n"
     ]
    }
   ],
   "source": [
    "class person(BaseModel):\n",
    "    name: str\n",
    "    age: int\n",
    "    city: str\n",
    "    \n",
    "    \n",
    "person=person(name=\"Abhii\", age=30, city=\"New York\")\n",
    "\n",
    "print(person)"
   ]
  },
  {
   "cell_type": "code",
   "execution_count": null,
   "id": "613a6eb3",
   "metadata": {},
   "outputs": [],
   "source": [
    "# Create another person instance with different data\n",
    "person2 = person(name=\"Priya\", age=25, city=\"San Francisco\")\n",
    "print(person2)"
   ]
  },
  {
   "cell_type": "code",
   "execution_count": 3,
   "id": "b7f500fa",
   "metadata": {},
   "outputs": [
    {
     "name": "stdout",
     "output_type": "stream",
     "text": [
      "Abhii\n",
      "30\n"
     ]
    }
   ],
   "source": [
    "print(person.name)\n",
    "print(person.age)"
   ]
  },
  {
   "cell_type": "code",
   "execution_count": 4,
   "id": "f1c8e400",
   "metadata": {},
   "outputs": [
    {
     "data": {
      "text/plain": [
       "__main__.person"
      ]
     },
     "execution_count": 4,
     "metadata": {},
     "output_type": "execute_result"
    }
   ],
   "source": [
    "type(person)"
   ]
  },
  {
   "cell_type": "code",
   "execution_count": 5,
   "id": "d25e30ff",
   "metadata": {},
   "outputs": [
    {
     "name": "stdout",
     "output_type": "stream",
     "text": [
      "Person(name='Rahul Yadav', age=20, city='New York')\n"
     ]
    }
   ],
   "source": [
    "from dataclasses import dataclass\n",
    "@dataclass\n",
    "class Person:\n",
    "    name: str\n",
    "    age: int\n",
    "    city: str\n",
    "    \n",
    "person = Person(name=\"Rahul Yadav\", age=20, city=\"New York\")\n",
    "print(person)"
   ]
  },
  {
   "cell_type": "code",
   "execution_count": 6,
   "id": "5ffbb951",
   "metadata": {},
   "outputs": [
    {
     "name": "stdout",
     "output_type": "stream",
     "text": [
      "name='Rahul Yadav' age=20 city='Bangalore'\n"
     ]
    }
   ],
   "source": [
    "class Person1(BaseModel):\n",
    "    name: str\n",
    "    age: int\n",
    "    city: str\n",
    "    \n",
    "person1 = Person1(name=\"Rahul Yadav\", age=20, city=\"Bangalore\")\n",
    "print(person1)"
   ]
  },
  {
   "cell_type": "code",
   "execution_count": null,
   "id": "43e4f4fa",
   "metadata": {},
   "outputs": [],
   "source": [
    "# Create another Person1 instance with different data\n",
    "person1_new = Person1(name=\"Amit\", age=28, city=\"Delhi\")\n",
    "print(person1_new)"
   ]
  },
  {
   "cell_type": "markdown",
   "id": "93f05986",
   "metadata": {},
   "source": [
    "####  Data Validation Error:-"
   ]
  },
  {
   "cell_type": "code",
   "execution_count": 8,
   "id": "5cfe7d15",
   "metadata": {},
   "outputs": [
    {
     "ename": "ValidationError",
     "evalue": "1 validation error for Person1\ncity\n  Input should be a valid string [type=string_type, input_value=123, input_type=int]\n    For further information visit https://errors.pydantic.dev/2.8/v/string_type",
     "output_type": "error",
     "traceback": [
      "\u001b[1;31m---------------------------------------------------------------------------\u001b[0m",
      "\u001b[1;31mValidationError\u001b[0m                           Traceback (most recent call last)",
      "Cell \u001b[1;32mIn[8], line 1\u001b[0m\n\u001b[1;32m----> 1\u001b[0m Person1\u001b[38;5;241m=\u001b[39mPerson1(name\u001b[38;5;241m=\u001b[39m\u001b[38;5;124m\"\u001b[39m\u001b[38;5;124mRahul Yadav\u001b[39m\u001b[38;5;124m\"\u001b[39m, age\u001b[38;5;241m=\u001b[39m\u001b[38;5;241m20\u001b[39m, city\u001b[38;5;241m=\u001b[39m\u001b[38;5;241m123\u001b[39m)\n\u001b[0;32m      2\u001b[0m \u001b[38;5;66;03m# This will raise a validation error because city should be a string    banglore to 123 (ERROR)\u001b[39;00m\n\u001b[0;32m      3\u001b[0m \u001b[38;5;28mprint\u001b[39m(Person1)\n",
      "File \u001b[1;32mc:\\Users\\ADMIN\\anaconda3\\Lib\\site-packages\\pydantic\\main.py:193\u001b[0m, in \u001b[0;36mBaseModel.__init__\u001b[1;34m(self, **data)\u001b[0m\n\u001b[0;32m    191\u001b[0m \u001b[38;5;66;03m# `__tracebackhide__` tells pytest and some other tools to omit this function from tracebacks\u001b[39;00m\n\u001b[0;32m    192\u001b[0m __tracebackhide__ \u001b[38;5;241m=\u001b[39m \u001b[38;5;28;01mTrue\u001b[39;00m\n\u001b[1;32m--> 193\u001b[0m \u001b[38;5;28mself\u001b[39m\u001b[38;5;241m.\u001b[39m__pydantic_validator__\u001b[38;5;241m.\u001b[39mvalidate_python(data, self_instance\u001b[38;5;241m=\u001b[39m\u001b[38;5;28mself\u001b[39m)\n",
      "\u001b[1;31mValidationError\u001b[0m: 1 validation error for Person1\ncity\n  Input should be a valid string [type=string_type, input_value=123, input_type=int]\n    For further information visit https://errors.pydantic.dev/2.8/v/string_type"
     ]
    }
   ],
   "source": [
    "Person1=Person1(name=\"Rahul Yadav\", age=20, city=123)\n",
    "# This will raise a validation error because city should be a string    banglore to 123 (ERROR)\n",
    "print(Person1)"
   ]
  },
  {
   "cell_type": "code",
   "execution_count": null,
   "id": "46fc172e",
   "metadata": {},
   "outputs": [],
   "source": [
    "from pydantic import ValidationError\n",
    "try:\n",
    "    Person1_invalid = Person1(name=\"Rahul Yadav\", age=20, city=123)\n",
    "except ValidationError as e:\n",
    "    print(e)"
   ]
  },
  {
   "cell_type": "code",
   "execution_count": null,
   "id": "1834619c",
   "metadata": {},
   "outputs": [],
   "source": []
  },
  {
   "cell_type": "code",
   "execution_count": null,
   "id": "abca7886",
   "metadata": {},
   "outputs": [],
   "source": []
  },
  {
   "cell_type": "markdown",
   "id": "782eb855",
   "metadata": {},
   "source": [
    "### 2. Model With Optional Fields\n",
    "\n",
    "- Add a new field to the model that is optional. \n",
    "- Add optional Filed using python's Optional type from the typing module:-"
   ]
  },
  {
   "cell_type": "code",
   "execution_count": 9,
   "id": "a8a97069",
   "metadata": {},
   "outputs": [],
   "source": [
    "from typing import Optional\n",
    "class Employee(BaseModel):\n",
    "    id: int\n",
    "    name: str\n",
    "    department: str\n",
    "    salary: Optional[float] = None  # Optional field with default value None\n",
    "    is_active: Optional[bool] = True  # Optional field with default value True"
   ]
  },
  {
   "cell_type": "code",
   "execution_count": null,
   "id": "4cc9a970",
   "metadata": {},
   "outputs": [],
   "source": [
    "# Create a new Employee instance with custom data\n",
    "employee3 = Employee(id=3, name=\"Sam\", department=\"IT\", salary=75000.0)\n",
    "print(employee3)"
   ]
  },
  {
   "cell_type": "code",
   "execution_count": 10,
   "id": "624a7c68",
   "metadata": {},
   "outputs": [
    {
     "name": "stdout",
     "output_type": "stream",
     "text": [
      "id=1 name='John Doe' department='HR' salary=None is_active=True\n",
      "id=2 name='Jane Smith' department='Finance' salary=60000.0 is_active=False\n"
     ]
    }
   ],
   "source": [
    "# Example with and without optional fields:-\n",
    "\n",
    "employee1 = Employee(id=1, name=\"John Doe\", department=\"HR\")\n",
    "employee2 = Employee(id=2, name=\"Jane Smith\", department=\"Finance\", salary=60000.0, is_active=False)\n",
    "\n",
    "print(employee1)\n",
    "print(employee2)"
   ]
  },
  {
   "cell_type": "code",
   "execution_count": null,
   "id": "24267c45",
   "metadata": {},
   "outputs": [],
   "source": []
  },
  {
   "cell_type": "markdown",
   "id": "343a09b7",
   "metadata": {},
   "source": [
    "### Definition:-\n",
    "\n",
    "- Optional[type]: indicates the field can be None\n",
    "- Default value (=None or = True): Makes the Field optional by default\n",
    "- Required field must stills be Provided\n",
    "- Pydantic Validates type even for optional fields when values are provided"
   ]
  },
  {
   "cell_type": "code",
   "execution_count": 12,
   "id": "cde5dea7",
   "metadata": {},
   "outputs": [],
   "source": [
    "from pydantic import BaseModel\n",
    "from typing import List, Optional\n",
    "\n",
    "class Classroom(BaseModel):\n",
    "    class_name: str\n",
    "    students: List[str]\n",
    "    capacity: int"
   ]
  },
  {
   "cell_type": "code",
   "execution_count": null,
   "id": "6ac81fd9",
   "metadata": {},
   "outputs": [],
   "source": [
    "# Create another Classroom instance with different students and capacity\n",
    "classroom2 = Classroom(class_name=\"Physics 201\", students=[\"David\", \"Emma\"], capacity=40)\n",
    "print(classroom2)"
   ]
  },
  {
   "cell_type": "code",
   "execution_count": null,
   "id": "cde5dea7",
   "metadata": {},
   "outputs": [
    {
     "name": "stdout",
     "output_type": "stream",
     "text": [
      "class_name='Math 101' students=['Alice', 'Bob', 'Charlie'] capacity=30\n"
     ]
    }
   ],
   "source": [
    "# Create a Classroom instance\n",
    "\n",
    "classroom = Classroom(class_name=\"Math 101\", students=[\"Alice\", \"Bob\", \"Charlie\"], capacity=30) \n",
    "print(classroom)"
   ]
  },
  {
   "cell_type": "code",
   "execution_count": 18,
   "id": "5a926041",
   "metadata": {},
   "outputs": [
    {
     "name": "stdout",
     "output_type": "stream",
     "text": [
      "Validation error: 1 validation error for Classroom\n",
      "capacity\n",
      "  Input should be a valid integer, unable to parse string as an integer [type=int_parsing, input_value='thirty', input_type=str]\n",
      "    For further information visit https://errors.pydantic.dev/2.8/v/int_parsing\n"
     ]
    }
   ],
   "source": [
    "try:\n",
    "    invalid_classroom = Classroom(class_name=\"Math 101\", students=[\"Alice\", \"Bob\", \"Charlie\"], capacity=\"thirty\")   # # This will raise a validation error because capacity should be an int\n",
    "except ValueError as e:\n",
    "    print(f\"Validation error: {e}\")"
   ]
  },
  {
   "cell_type": "code",
   "execution_count": null,
   "id": "7b6df720",
   "metadata": {},
   "outputs": [],
   "source": []
  },
  {
   "cell_type": "markdown",
   "id": "b8b65726",
   "metadata": {},
   "source": [
    "### 4. Model  With Nested Models:-\n",
    "\n",
    "- Create Complex Structure with nested models:"
   ]
  },
  {
   "cell_type": "code",
   "execution_count": 19,
   "id": "4e88b9b6",
   "metadata": {},
   "outputs": [],
   "source": [
    "from pydantic import BaseModel\n",
    "\n",
    "class Address(BaseModel):\n",
    "    street: str\n",
    "    city: str\n",
    "    state: str\n",
    "    zip_code: str\n",
    "    \n",
    "class Customer(BaseModel):\n",
    "    customer_id: int\n",
    "    name: str\n",
    "    address: Address # Nested model\n",
    "    \n",
    "# Create a customer with nested address model\n",
    "customer = Customer(\n",
    "    customer_id=1,\n",
    "    name=\"John Doe\",\n",
    "    address=Address(\n",
    "        street=\"123 Main St\",\n",
    "        city=\"New York\",\n",
    "        state=\"NY\",\n",
    "        zip_code=\"10001\"\n",
    "    )\n",
    ")"
   ]
  },
  {
   "cell_type": "code",
   "execution_count": null,
   "id": "b47b3724",
   "metadata": {},
   "outputs": [],
   "source": [
    "# Create another Customer instance with a different Address\n",
    "customer2 = Customer(\n",
    "    customer_id=2,\n",
    "    name=\"Alice Smith\",\n",
    "    address=Address(\n",
    "        street=\"456 Market St\",\n",
    "        city=\"San Francisco\",\n",
    "        state=\"CA\",\n",
    "        zip_code=\"94105\"\n",
    "    )\n",
    ")\n",
    "print(customer2)"
   ]
  },
  {
   "cell_type": "code",
   "execution_count": 20,
   "id": "38016435",
   "metadata": {},
   "outputs": [
    {
     "name": "stdout",
     "output_type": "stream",
     "text": [
      "customer_id=1 name='John Doe' address=Address(street='123 Main St', city='New York', state='NY', zip_code='10001')\n"
     ]
    }
   ],
   "source": [
    "print(customer)"
   ]
  },
  {
   "cell_type": "markdown",
   "id": "7eb25cfb",
   "metadata": {},
   "source": [
    "### Pydantic Fields:- Customiation And Constraint\n",
    "\n",
    "- The Field Function in Pydantic Enhances Model field beyound basic type hints by Allowing you to specify constraints and custom validation logic. defults values, aliases and more. Here is a Comprehansive Tutorials with Examples:-"
   ]
  },
  {
   "cell_type": "code",
   "execution_count": 22,
   "id": "a228fadb",
   "metadata": {},
   "outputs": [
    {
     "name": "stdout",
     "output_type": "stream",
     "text": [
      "name='Laptop' price=999.99 quantity=10 category='Electronics'\n"
     ]
    }
   ],
   "source": [
    "from pydantic import BaseModel, Field\n",
    "\n",
    "class Item(BaseModel):\n",
    "    name: str = Field(..., title=\"Item Name\", description=\"The name of the item\")\n",
    "    price: float = Field(..., gt=0, title=\"Item Price\", description=\"The price of the item\")\n",
    "    quantity: int = Field(..., ge=0, title=\"Item Quantity\", description=\"The quantity of the item in stock\")\n",
    "    category: str = Field(..., title=\"Item Category\", description=\"The category of the item\")\n",
    "    \n",
    "# Valid Instance\n",
    "Item1 = Item(name=\"Laptop\", price=999.99, quantity=10, category=\"Electronics\")\n",
    "print(Item1)"
   ]
  },
  {
   "cell_type": "code",
   "execution_count": null,
   "id": "bba44839",
   "metadata": {},
   "outputs": [],
   "source": [
    "# Try to create an Item with invalid price (should raise validation error)\n",
    "try:\n",
    "    Item_invalid = Item(name=\"Book\", price=-10, quantity=5, category=\"Education\")\n",
    "except Exception as e:\n",
    "    print(e)"
   ]
  },
  {
   "cell_type": "code",
   "execution_count": 23,
   "id": "42db329a",
   "metadata": {},
   "outputs": [
    {
     "name": "stdout",
     "output_type": "stream",
     "text": [
      "{'properties': {'name': {'description': 'The name of the item', 'title': 'Item Name', 'type': 'string'}, 'price': {'description': 'The price of the item', 'exclusiveMinimum': 0.0, 'title': 'Item Price', 'type': 'number'}, 'quantity': {'description': 'The quantity of the item in stock', 'minimum': 0, 'title': 'Item Quantity', 'type': 'integer'}, 'category': {'description': 'The category of the item', 'title': 'Item Category', 'type': 'string'}}, 'required': ['name', 'price', 'quantity', 'category'], 'title': 'Item', 'type': 'object'}\n"
     ]
    }
   ],
   "source": [
    "print(Item1.model_json_schema())"
   ]
  },
  {
   "cell_type": "code",
   "execution_count": 24,
   "id": "9b0bf71a",
   "metadata": {},
   "outputs": [
    {
     "name": "stdout",
     "output_type": "stream",
     "text": [
      "name: <class 'str'>\n",
      "price: <class 'float'>\n",
      "quantity: <class 'int'>\n",
      "category: <class 'str'>\n"
     ]
    }
   ],
   "source": [
    "# Show all fields and their types for the Item model\n",
    "for field_name, field_info in Item.model_fields.items():\n",
    "    print(f\"{field_name}: {field_info.annotation}\")"
   ]
  },
  {
   "cell_type": "code",
   "execution_count": 25,
   "id": "b43baf4a",
   "metadata": {},
   "outputs": [
    {
     "name": "stdout",
     "output_type": "stream",
     "text": [
      "name='Smartphone' price=499.99 quantity=25 category='Electronics'\n"
     ]
    }
   ],
   "source": [
    "# You can use the Item model to create another item instance as an example\n",
    "Item2 = Item(name=\"Smartphone\", price=499.99, quantity=25, category=\"Electronics\")\n",
    "print(Item2)"
   ]
  },
  {
   "cell_type": "code",
   "execution_count": 26,
   "id": "cb2bf1c3",
   "metadata": {},
   "outputs": [
    {
     "name": "stdout",
     "output_type": "stream",
     "text": [
      "{'name': 'Smartphone', 'price': 499.99, 'quantity': 25, 'category': 'Electronics'}\n"
     ]
    }
   ],
   "source": [
    "# Show the dictionary representation of Item2\n",
    "print(Item2.model_dump())"
   ]
  },
  {
   "cell_type": "code",
   "execution_count": null,
   "id": "e28eace3",
   "metadata": {},
   "outputs": [],
   "source": []
  },
  {
   "cell_type": "code",
   "execution_count": 27,
   "id": "dc20e7cc",
   "metadata": {},
   "outputs": [
    {
     "name": "stdout",
     "output_type": "stream",
     "text": [
      "{\n",
      "  \"properties\": {\n",
      "    \"name\": {\n",
      "      \"description\": \"The name of the item\",\n",
      "      \"title\": \"Item Name\",\n",
      "      \"type\": \"string\"\n",
      "    },\n",
      "    \"price\": {\n",
      "      \"description\": \"The price of the item\",\n",
      "      \"exclusiveMinimum\": 0.0,\n",
      "      \"title\": \"Item Price\",\n",
      "      \"type\": \"number\"\n",
      "    },\n",
      "    \"quantity\": {\n",
      "      \"description\": \"The quantity of the item in stock\",\n",
      "      \"minimum\": 0,\n",
      "      \"title\": \"Item Quantity\",\n",
      "      \"type\": \"integer\"\n",
      "    },\n",
      "    \"category\": {\n",
      "      \"description\": \"The category of the item\",\n",
      "      \"title\": \"Item Category\",\n",
      "      \"type\": \"string\"\n",
      "    }\n",
      "  },\n",
      "  \"required\": [\n",
      "    \"name\",\n",
      "    \"price\",\n",
      "    \"quantity\",\n",
      "    \"category\"\n",
      "  ],\n",
      "  \"title\": \"Item\",\n",
      "  \"type\": \"object\"\n",
      "}\n"
     ]
    }
   ],
   "source": [
    "print(Item1.schema_json(indent=2))  # Print the JSON schema of the model"
   ]
  },
  {
   "cell_type": "code",
   "execution_count": 28,
   "id": "03f5286f",
   "metadata": {},
   "outputs": [
    {
     "name": "stdout",
     "output_type": "stream",
     "text": [
      "{\n",
      "  \"properties\": {\n",
      "    \"name\": {\n",
      "      \"description\": \"The name of the item\",\n",
      "      \"title\": \"Item Name\",\n",
      "      \"type\": \"string\"\n",
      "    },\n",
      "    \"price\": {\n",
      "      \"description\": \"The price of the item\",\n",
      "      \"exclusiveMinimum\": 0.0,\n",
      "      \"title\": \"Item Price\",\n",
      "      \"type\": \"number\"\n",
      "    },\n",
      "    \"quantity\": {\n",
      "      \"description\": \"The quantity of the item in stock\",\n",
      "      \"minimum\": 0,\n",
      "      \"title\": \"Item Quantity\",\n",
      "      \"type\": \"integer\"\n",
      "    },\n",
      "    \"category\": {\n",
      "      \"description\": \"The category of the item\",\n",
      "      \"title\": \"Item Category\",\n",
      "      \"type\": \"string\"\n",
      "    }\n",
      "  },\n",
      "  \"required\": [\n",
      "    \"name\",\n",
      "    \"price\",\n",
      "    \"quantity\",\n",
      "    \"category\"\n",
      "  ],\n",
      "  \"title\": \"Item\",\n",
      "  \"type\": \"object\"\n",
      "}\n"
     ]
    }
   ],
   "source": [
    "print(Item2.schema_json(indent=2))  # Print the JSON schema of the second item"
   ]
  },
  {
   "cell_type": "markdown",
   "id": "74ec0b42",
   "metadata": {},
   "source": [
    "### Pydantic in python each and every which is require to everyone who is learning AI Engineer"
   ]
  },
  {
   "cell_type": "code",
   "execution_count": 29,
   "id": "bb7392bf",
   "metadata": {},
   "outputs": [
    {
     "name": "stdout",
     "output_type": "stream",
     "text": [
      "Basic Model: feature1=1.5 feature2=2.3 label=0\n",
      "Model with Optional Field: id=101 score=0.87 explanation=None\n",
      "Nested Model: features=Features(values=[0.1, 0.2, 0.3]) metadata={'source': 'sensor'}\n",
      "Validation Error Example: 1 validation error for DataPoint\n",
      "feature1\n",
      "  Input should be a valid number, unable to parse string as a number [type=float_parsing, input_value='not_a_float', input_type=str]\n",
      "    For further information visit https://errors.pydantic.dev/2.8/v/float_parsing\n",
      "Custom Constraints: learning_rate=0.01 epochs=10\n",
      "Serialized Model: {'learning_rate': 0.01, 'epochs': 10}\n",
      "Model Schema: {'properties': {'learning_rate': {'exclusiveMaximum': 1.0, 'exclusiveMinimum': 0.0, 'title': 'Learning Rate', 'type': 'number'}, 'epochs': {'maximum': 1000, 'minimum': 1, 'title': 'Epochs', 'type': 'integer'}}, 'required': ['learning_rate', 'epochs'], 'title': 'HyperParams', 'type': 'object'}\n"
     ]
    }
   ],
   "source": [
    "from pydantic import Field\n",
    "\n",
    "# Essential Pydantic examples for AI Engineers\n",
    "\n",
    "# 1. Basic Model Usage\n",
    "class DataPoint(BaseModel):\n",
    "    feature1: float\n",
    "    feature2: float\n",
    "    label: int\n",
    "\n",
    "dp = DataPoint(feature1=1.5, feature2=2.3, label=0)\n",
    "print(\"Basic Model:\", dp)\n",
    "\n",
    "# 2. Model with Optional and Default Fields\n",
    "class Prediction(BaseModel):\n",
    "    id: int\n",
    "    score: float\n",
    "    explanation: Optional[str] = None\n",
    "\n",
    "pred = Prediction(id=101, score=0.87)\n",
    "print(\"Model with Optional Field:\", pred)\n",
    "\n",
    "# 3. Model with List and Nested Models\n",
    "class Features(BaseModel):\n",
    "    values: List[float]\n",
    "\n",
    "class MLInput(BaseModel):\n",
    "    features: Features\n",
    "    metadata: Optional[dict] = None\n",
    "\n",
    "ml_input = MLInput(features=Features(values=[0.1, 0.2, 0.3]), metadata={\"source\": \"sensor\"})\n",
    "print(\"Nested Model:\", ml_input)\n",
    "\n",
    "# 4. Data Validation Example\n",
    "try:\n",
    "    invalid_dp = DataPoint(feature1=\"not_a_float\", feature2=2.3, label=1)\n",
    "except Exception as e:\n",
    "    print(\"Validation Error Example:\", e)\n",
    "\n",
    "# 5. Custom Field Constraints\n",
    "\n",
    "class HyperParams(BaseModel):\n",
    "    learning_rate: float = Field(..., gt=0, lt=1)\n",
    "    epochs: int = Field(..., ge=1, le=1000)\n",
    "\n",
    "hp = HyperParams(learning_rate=0.01, epochs=10)\n",
    "print(\"Custom Constraints:\", hp)\n",
    "\n",
    "# 6. Model Serialization\n",
    "print(\"Serialized Model:\", hp.model_dump())\n",
    "\n",
    "# 7. Model Schema Generation\n",
    "print(\"Model Schema:\", hp.model_json_schema())"
   ]
  },
  {
   "cell_type": "code",
   "execution_count": null,
   "id": "e94a40b8",
   "metadata": {},
   "outputs": [],
   "source": []
  }
 ],
 "metadata": {
  "kernelspec": {
   "display_name": "base",
   "language": "python",
   "name": "python3"
  },
  "language_info": {
   "codemirror_mode": {
    "name": "ipython",
    "version": 3
   },
   "file_extension": ".py",
   "mimetype": "text/x-python",
   "name": "python",
   "nbconvert_exporter": "python",
   "pygments_lexer": "ipython3",
   "version": "3.12.3"
  }
 },
 "nbformat": 4,
 "nbformat_minor": 5
}
