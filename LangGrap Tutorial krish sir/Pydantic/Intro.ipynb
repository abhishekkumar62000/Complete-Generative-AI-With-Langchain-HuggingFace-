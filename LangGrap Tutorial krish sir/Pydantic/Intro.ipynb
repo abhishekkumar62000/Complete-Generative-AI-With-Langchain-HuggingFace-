{
 "cells": [
  {
   "cell_type": "markdown",
   "id": "81417460",
   "metadata": {},
   "source": [
    "### Pydantic Basics:-\n",
    "Pydantic is a Python library that helps you create robust, fast, scalable, and maintainabl\n",
    "Creating and using Models in Pydantic is a fundamental concept. Models in Pydantic are essentially classes that represent data\n",
    "Pydantic models are the fondamental of data validation in Pydantic. They are use python type annotations to define the structure and validation data at rntime. here's a detailed exploration of basic model creation and usage in Pydantic. and several Example:-"
   ]
  },
  {
   "cell_type": "code",
   "execution_count": 2,
   "id": "b81e8499",
   "metadata": {},
   "outputs": [],
   "source": [
    "from pydantic import BaseModel"
   ]
  },
  {
   "cell_type": "code",
   "execution_count": 6,
   "id": "05624542",
   "metadata": {},
   "outputs": [
    {
     "name": "stdout",
     "output_type": "stream",
     "text": [
      "name='Rahul Yadav' age=20 city='New York'\n"
     ]
    }
   ],
   "source": [
    "class person(BaseModel):\n",
    "    name: str\n",
    "    age: int\n",
    "    city: str\n",
    "    \n",
    "    \n",
    "person=person(name=\"Rahul Yadav\", age=20, city=\"New York\")\n",
    "print(person)"
   ]
  },
  {
   "cell_type": "code",
   "execution_count": 7,
   "id": "f1c8e400",
   "metadata": {},
   "outputs": [
    {
     "data": {
      "text/plain": [
       "__main__.person"
      ]
     },
     "execution_count": 7,
     "metadata": {},
     "output_type": "execute_result"
    }
   ],
   "source": [
    "type(person)"
   ]
  },
  {
   "cell_type": "code",
   "execution_count": 8,
   "id": "d21577f3",
   "metadata": {},
   "outputs": [
    {
     "name": "stdout",
     "output_type": "stream",
     "text": [
      "Person(name='Rahul Yadav', age=20, city='New York')\n"
     ]
    }
   ],
   "source": [
    "from dataclasses import dataclass\n",
    "\n",
    "@dataclass\n",
    "class Person:\n",
    "    name: str\n",
    "    age: int\n",
    "    city: str\n",
    "    \n",
    "person = Person(name=\"Rahul Yadav\", age=20, city=\"New York\")\n",
    "print(person)"
   ]
  },
  {
   "cell_type": "code",
   "execution_count": 11,
   "id": "5ffbb951",
   "metadata": {},
   "outputs": [
    {
     "name": "stdout",
     "output_type": "stream",
     "text": [
      "name='Rahul Yadav' age=20 city='Bangalore'\n"
     ]
    }
   ],
   "source": [
    "class Person1(BaseModel):\n",
    "    name: str\n",
    "    age: int\n",
    "    city: str\n",
    "    \n",
    "person1 = Person1(name=\"Rahul Yadav\", age=20, city=\"Bangalore\")\n",
    "print(person1)"
   ]
  },
  {
   "cell_type": "markdown",
   "id": "93f05986",
   "metadata": {},
   "source": [
    "####  data Validation Error:-"
   ]
  },
  {
   "cell_type": "code",
   "execution_count": 13,
   "id": "5cfe7d15",
   "metadata": {},
   "outputs": [
    {
     "ename": "TypeError",
     "evalue": "'Person1' object is not callable",
     "output_type": "error",
     "traceback": [
      "\u001b[1;31m---------------------------------------------------------------------------\u001b[0m",
      "\u001b[1;31mTypeError\u001b[0m                                 Traceback (most recent call last)",
      "Cell \u001b[1;32mIn[13], line 1\u001b[0m\n\u001b[1;32m----> 1\u001b[0m Person1\u001b[38;5;241m=\u001b[39mPerson1(name\u001b[38;5;241m=\u001b[39m\u001b[38;5;124m\"\u001b[39m\u001b[38;5;124mRahul Yadav\u001b[39m\u001b[38;5;124m\"\u001b[39m, age\u001b[38;5;241m=\u001b[39m\u001b[38;5;241m20\u001b[39m, city\u001b[38;5;241m=\u001b[39m\u001b[38;5;241m123\u001b[39m)\n\u001b[0;32m      2\u001b[0m \u001b[38;5;66;03m# This will raise a validation error because city should be a string\u001b[39;00m\n\u001b[0;32m      3\u001b[0m \u001b[38;5;28mprint\u001b[39m(Person1)\n",
      "\u001b[1;31mTypeError\u001b[0m: 'Person1' object is not callable"
     ]
    }
   ],
   "source": [
    "Person1=Person1(name=\"Rahul Yadav\", age=20, city=123)\n",
    "# This will raise a validation error because city should be a string\n",
    "print(Person1)"
   ]
  },
  {
   "cell_type": "code",
   "execution_count": null,
   "id": "1834619c",
   "metadata": {},
   "outputs": [],
   "source": []
  },
  {
   "cell_type": "code",
   "execution_count": null,
   "id": "abca7886",
   "metadata": {},
   "outputs": [],
   "source": []
  },
  {
   "cell_type": "markdown",
   "id": "782eb855",
   "metadata": {},
   "source": [
    "### 2. Model With Optional Fields\n",
    "\n",
    "- Add a new field to the model that is optional. \n",
    "- Add optional Filed using python's Optional type from the typing module:-"
   ]
  },
  {
   "cell_type": "code",
   "execution_count": 14,
   "id": "a8a97069",
   "metadata": {},
   "outputs": [],
   "source": [
    "from typing import Optional\n",
    "class Employee(BaseModel):\n",
    "    id: int\n",
    "    name: str\n",
    "    department: str\n",
    "    salary: Optional[float] = None  # Optional field with default value None\n",
    "    is_active: Optional[bool] = True  # Optional field with default value True"
   ]
  },
  {
   "cell_type": "code",
   "execution_count": 16,
   "id": "624a7c68",
   "metadata": {},
   "outputs": [
    {
     "name": "stdout",
     "output_type": "stream",
     "text": [
      "id=1 name='John Doe' department='HR' salary=None is_active=True\n",
      "id=2 name='Jane Smith' department='Finance' salary=60000.0 is_active=False\n"
     ]
    }
   ],
   "source": [
    "# Example with and without optional fields:-\n",
    "\n",
    "employee1 = Employee(id=1, name=\"John Doe\", department=\"HR\")\n",
    "employee2 = Employee(id=2, name=\"Jane Smith\", department=\"Finance\", salary=60000.0, is_active=False)\n",
    "\n",
    "print(employee1)\n",
    "print(employee2)"
   ]
  },
  {
   "cell_type": "code",
   "execution_count": null,
   "id": "24267c45",
   "metadata": {},
   "outputs": [],
   "source": []
  },
  {
   "cell_type": "markdown",
   "id": "343a09b7",
   "metadata": {},
   "source": [
    "### Definition:-\n",
    "\n",
    "- Optional[type]: indicates the field can be None\n",
    "- Default value (=None or = True): Makes the Field optional by default\n",
    "- Required field must stills be Provided\n",
    "- Pydantic Validates type even for optional fields when values are provided"
   ]
  },
  {
   "cell_type": "code",
   "execution_count": 17,
   "id": "31a8e7e9",
   "metadata": {},
   "outputs": [],
   "source": [
    "from pydantic import BaseModel\n",
    "from typing import List, Optional\n",
    "\n",
    "class Classroom(BaseModel):\n",
    "    class_name: str\n",
    "    students: List[str]\n",
    "    capacity: int"
   ]
  },
  {
   "cell_type": "code",
   "execution_count": 18,
   "id": "cde5dea7",
   "metadata": {},
   "outputs": [
    {
     "name": "stdout",
     "output_type": "stream",
     "text": [
      "class_name='Math 101' students=['Alice', 'Bob', 'Charlie'] capacity=30\n"
     ]
    }
   ],
   "source": [
    "# Create a Classroom instance\n",
    "\n",
    "classroom = Classroom(class_name=\"Math 101\", students=[\"Alice\", \"Bob\", \"Charlie\"], capacity=30)\n",
    "print(classroom)"
   ]
  },
  {
   "cell_type": "code",
   "execution_count": 19,
   "id": "5a926041",
   "metadata": {},
   "outputs": [
    {
     "name": "stdout",
     "output_type": "stream",
     "text": [
      "Validation error: 1 validation error for Classroom\n",
      "capacity\n",
      "  Input should be a valid integer, unable to parse string as an integer [type=int_parsing, input_value='thirty', input_type=str]\n",
      "    For further information visit https://errors.pydantic.dev/2.11/v/int_parsing\n"
     ]
    }
   ],
   "source": [
    "try:\n",
    "    invalid_classroom = Classroom(class_name=\"Math 101\", students=[\"Alice\", \"Bob\", \"Charlie\"], capacity=\"thirty\")\n",
    "except ValueError as e:\n",
    "    print(f\"Validation error: {e}\")"
   ]
  },
  {
   "cell_type": "code",
   "execution_count": null,
   "id": "7b6df720",
   "metadata": {},
   "outputs": [],
   "source": []
  },
  {
   "cell_type": "markdown",
   "id": "b8b65726",
   "metadata": {},
   "source": [
    "### 4. Model  With Nested Models:-\n",
    "\n",
    "- Create Complex Structure with nested models:"
   ]
  },
  {
   "cell_type": "code",
   "execution_count": 21,
   "id": "4e88b9b6",
   "metadata": {},
   "outputs": [],
   "source": [
    "from pydantic import BaseModel\n",
    "\n",
    "class Address(BaseModel):\n",
    "    street: str\n",
    "    city: str\n",
    "    state: str\n",
    "    zip_code: str\n",
    "    \n",
    "class Customer(BaseModel):\n",
    "    customer_id: int\n",
    "    name: str\n",
    "    address: Address # Nested model\n",
    "    \n",
    "# Create a customer with nested address model\n",
    "customer = Customer(\n",
    "    customer_id=1,\n",
    "    name=\"John Doe\",\n",
    "    address=Address(\n",
    "        street=\"123 Main St\",\n",
    "        city=\"New York\",\n",
    "        state=\"NY\",\n",
    "        zip_code=\"10001\"\n",
    "    )\n",
    ")"
   ]
  },
  {
   "cell_type": "code",
   "execution_count": 22,
   "id": "38016435",
   "metadata": {},
   "outputs": [
    {
     "name": "stdout",
     "output_type": "stream",
     "text": [
      "customer_id=1 name='John Doe' address=Address(street='123 Main St', city='New York', state='NY', zip_code='10001')\n"
     ]
    }
   ],
   "source": [
    "print(customer)"
   ]
  },
  {
   "cell_type": "markdown",
   "id": "7eb25cfb",
   "metadata": {},
   "source": [
    "### Pydantic Fields:- Customiation And Constraint\n",
    "\n",
    "- The Field Function in Pydantic Enhances Model field beyound basic type hints by Allowing you to specify constraints and custom validation logic. defults values, aliases and more. Here is a Comprehansive Tutorials with Examples:-"
   ]
  },
  {
   "cell_type": "code",
   "execution_count": 24,
   "id": "a228fadb",
   "metadata": {},
   "outputs": [
    {
     "name": "stdout",
     "output_type": "stream",
     "text": [
      "name='Laptop' price=999.99 quantity=10 category='Electronics'\n"
     ]
    }
   ],
   "source": [
    "from pydantic import BaseModel, Field\n",
    "\n",
    "class Item(BaseModel):\n",
    "    name: str = Field(..., title=\"Item Name\", description=\"The name of the item\")\n",
    "    price: float = Field(..., gt=0, title=\"Item Price\", description=\"The price of the item\")\n",
    "    quantity: int = Field(..., ge=0, title=\"Item Quantity\", description=\"The quantity of the item in stock\")\n",
    "    category: str = Field(..., title=\"Item Category\", description=\"The category of the item\")\n",
    "    \n",
    "# Valid Instance\n",
    "Item1 = Item(name=\"Laptop\", price=999.99, quantity=10, category=\"Electronics\")\n",
    "print(Item1)"
   ]
  },
  {
   "cell_type": "code",
   "execution_count": 26,
   "id": "42db329a",
   "metadata": {},
   "outputs": [
    {
     "name": "stdout",
     "output_type": "stream",
     "text": [
      "{'properties': {'name': {'description': 'The name of the item', 'title': 'Item Name', 'type': 'string'}, 'price': {'description': 'The price of the item', 'exclusiveMinimum': 0, 'title': 'Item Price', 'type': 'number'}, 'quantity': {'description': 'The quantity of the item in stock', 'minimum': 0, 'title': 'Item Quantity', 'type': 'integer'}, 'category': {'description': 'The category of the item', 'title': 'Item Category', 'type': 'string'}}, 'required': ['name', 'price', 'quantity', 'category'], 'title': 'Item', 'type': 'object'}\n"
     ]
    }
   ],
   "source": [
    "print(Item1.model_json_schema())"
   ]
  },
  {
   "cell_type": "code",
   "execution_count": 25,
   "id": "dc20e7cc",
   "metadata": {},
   "outputs": [
    {
     "name": "stdout",
     "output_type": "stream",
     "text": [
      "{\n",
      "  \"properties\": {\n",
      "    \"name\": {\n",
      "      \"description\": \"The name of the item\",\n",
      "      \"title\": \"Item Name\",\n",
      "      \"type\": \"string\"\n",
      "    },\n",
      "    \"price\": {\n",
      "      \"description\": \"The price of the item\",\n",
      "      \"exclusiveMinimum\": 0,\n",
      "      \"title\": \"Item Price\",\n",
      "      \"type\": \"number\"\n",
      "    },\n",
      "    \"quantity\": {\n",
      "      \"description\": \"The quantity of the item in stock\",\n",
      "      \"minimum\": 0,\n",
      "      \"title\": \"Item Quantity\",\n",
      "      \"type\": \"integer\"\n",
      "    },\n",
      "    \"category\": {\n",
      "      \"description\": \"The category of the item\",\n",
      "      \"title\": \"Item Category\",\n",
      "      \"type\": \"string\"\n",
      "    }\n",
      "  },\n",
      "  \"required\": [\n",
      "    \"name\",\n",
      "    \"price\",\n",
      "    \"quantity\",\n",
      "    \"category\"\n",
      "  ],\n",
      "  \"title\": \"Item\",\n",
      "  \"type\": \"object\"\n",
      "}\n"
     ]
    },
    {
     "name": "stderr",
     "output_type": "stream",
     "text": [
      "C:\\Users\\ADMIN\\AppData\\Local\\Temp\\ipykernel_15228\\2191188377.py:1: PydanticDeprecatedSince20: The `schema_json` method is deprecated; use `model_json_schema` and json.dumps instead. Deprecated in Pydantic V2.0 to be removed in V3.0. See Pydantic V2 Migration Guide at https://errors.pydantic.dev/2.11/migration/\n",
      "  print(Item1.schema_json(indent=2))  # Print the JSON schema of the model\n"
     ]
    }
   ],
   "source": [
    "print(Item1.schema_json(indent=2))  # Print the JSON schema of the model"
   ]
  },
  {
   "cell_type": "code",
   "execution_count": null,
   "id": "03f5286f",
   "metadata": {},
   "outputs": [],
   "source": []
  }
 ],
 "metadata": {
  "kernelspec": {
   "display_name": "Python 3",
   "language": "python",
   "name": "python3"
  },
  "language_info": {
   "codemirror_mode": {
    "name": "ipython",
    "version": 3
   },
   "file_extension": ".py",
   "mimetype": "text/x-python",
   "name": "python",
   "nbconvert_exporter": "python",
   "pygments_lexer": "ipython3",
   "version": "3.12.7"
  }
 },
 "nbformat": 4,
 "nbformat_minor": 5
}
